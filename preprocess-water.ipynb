{
 "cells": [
  {
   "cell_type": "code",
   "execution_count": 1,
   "metadata": {},
   "outputs": [],
   "source": [
    "import pandas as pd\n",
    "import matplotlib.pyplot as plt\n",
    "import seaborn as sns\n",
    "import numpy as np\n",
    "\n",
    "df = pd.read_csv('brisbane_water_quality.csv')"
   ]
  },
  {
   "cell_type": "code",
   "execution_count": 2,
   "metadata": {},
   "outputs": [
    {
     "data": {
      "text/plain": [
       "Index(['Timestamp', 'Record number', 'Average Water Speed',\n",
       "       'Average Water Direction', 'Chlorophyll', 'Chlorophyll [quality]',\n",
       "       'Temperature', 'Temperature [quality]', 'Dissolved Oxygen',\n",
       "       'Dissolved Oxygen [quality]', 'Dissolved Oxygen (%Saturation)',\n",
       "       'Dissolved Oxygen (%Saturation) [quality]', 'pH', 'pH [quality]',\n",
       "       'Salinity', 'Salinity [quality]', 'Specific Conductance',\n",
       "       'Specific Conductance [quality]', 'Turbidity', 'Turbidity [quality]'],\n",
       "      dtype='object')"
      ]
     },
     "execution_count": 2,
     "metadata": {},
     "output_type": "execute_result"
    }
   ],
   "source": [
    "df.columns"
   ]
  },
  {
   "cell_type": "code",
   "execution_count": 3,
   "metadata": {},
   "outputs": [],
   "source": [
    "# Drop columns with quality information\n",
    "df = df.drop(columns=['Dissolved Oxygen [quality]', 'Chlorophyll [quality]', 'Temperature [quality]',\n",
    "                      'Dissolved Oxygen (%Saturation) [quality]', 'pH [quality]', 'Salinity [quality]',\n",
    "                      'Specific Conductance [quality]', 'Turbidity [quality]', 'Record number'], errors='ignore')"
   ]
  },
  {
   "cell_type": "code",
   "execution_count": 4,
   "metadata": {},
   "outputs": [
    {
     "data": {
      "text/plain": [
       "Index(['Timestamp', 'Average Water Speed', 'Average Water Direction',\n",
       "       'Chlorophyll', 'Temperature', 'Dissolved Oxygen',\n",
       "       'Dissolved Oxygen (%Saturation)', 'pH', 'Salinity',\n",
       "       'Specific Conductance', 'Turbidity'],\n",
       "      dtype='object')"
      ]
     },
     "execution_count": 4,
     "metadata": {},
     "output_type": "execute_result"
    }
   ],
   "source": [
    "df.columns"
   ]
  },
  {
   "cell_type": "code",
   "execution_count": 5,
   "metadata": {},
   "outputs": [
    {
     "data": {
      "text/plain": [
       "(30894, 11)"
      ]
     },
     "execution_count": 5,
     "metadata": {},
     "output_type": "execute_result"
    }
   ],
   "source": [
    "df.shape"
   ]
  },
  {
   "cell_type": "code",
   "execution_count": 6,
   "metadata": {},
   "outputs": [
    {
     "name": "stdout",
     "output_type": "stream",
     "text": [
      "<class 'pandas.core.frame.DataFrame'>\n",
      "RangeIndex: 30894 entries, 0 to 30893\n",
      "Data columns (total 11 columns):\n",
      " #   Column                          Non-Null Count  Dtype  \n",
      "---  ------                          --------------  -----  \n",
      " 0   Timestamp                       30894 non-null  object \n",
      " 1   Average Water Speed             30874 non-null  float64\n",
      " 2   Average Water Direction         30893 non-null  float64\n",
      " 3   Chlorophyll                     30309 non-null  float64\n",
      " 4   Temperature                     25730 non-null  float64\n",
      " 5   Dissolved Oxygen                26594 non-null  float64\n",
      " 6   Dissolved Oxygen (%Saturation)  25145 non-null  float64\n",
      " 7   pH                              29810 non-null  float64\n",
      " 8   Salinity                        26936 non-null  float64\n",
      " 9   Specific Conductance            29527 non-null  float64\n",
      " 10  Turbidity                       28894 non-null  float64\n",
      "dtypes: float64(10), object(1)\n",
      "memory usage: 2.6+ MB\n"
     ]
    }
   ],
   "source": [
    "df.info()"
   ]
  },
  {
   "cell_type": "code",
   "execution_count": 7,
   "metadata": {},
   "outputs": [],
   "source": [
    "# Convert 'Timestamp' column to datetime \n",
    "df['Timestamp'] = pd.to_datetime(df['Timestamp'])"
   ]
  },
  {
   "cell_type": "code",
   "execution_count": 8,
   "metadata": {},
   "outputs": [
    {
     "name": "stdout",
     "output_type": "stream",
     "text": [
      "<class 'pandas.core.frame.DataFrame'>\n",
      "RangeIndex: 30894 entries, 0 to 30893\n",
      "Data columns (total 11 columns):\n",
      " #   Column                          Non-Null Count  Dtype         \n",
      "---  ------                          --------------  -----         \n",
      " 0   Timestamp                       30894 non-null  datetime64[ns]\n",
      " 1   Average Water Speed             30874 non-null  float64       \n",
      " 2   Average Water Direction         30893 non-null  float64       \n",
      " 3   Chlorophyll                     30309 non-null  float64       \n",
      " 4   Temperature                     25730 non-null  float64       \n",
      " 5   Dissolved Oxygen                26594 non-null  float64       \n",
      " 6   Dissolved Oxygen (%Saturation)  25145 non-null  float64       \n",
      " 7   pH                              29810 non-null  float64       \n",
      " 8   Salinity                        26936 non-null  float64       \n",
      " 9   Specific Conductance            29527 non-null  float64       \n",
      " 10  Turbidity                       28894 non-null  float64       \n",
      "dtypes: datetime64[ns](1), float64(10)\n",
      "memory usage: 2.6 MB\n"
     ]
    }
   ],
   "source": [
    "df.info()"
   ]
  },
  {
   "cell_type": "code",
   "execution_count": 9,
   "metadata": {},
   "outputs": [
    {
     "data": {
      "text/plain": [
       "<bound method NDFrame.head of                 Timestamp  Average Water Speed  Average Water Direction  \\\n",
       "0     2023-08-04 23:00:00                4.834                   73.484   \n",
       "1     2023-08-04 23:30:00                2.544                  106.424   \n",
       "2     2023-08-04 23:00:00                1.260                  156.755   \n",
       "3     2023-08-04 23:30:00                0.760                  281.754   \n",
       "4     2023-08-04 23:00:00                3.397                  244.637   \n",
       "...                   ...                  ...                      ...   \n",
       "30889 2024-06-27 08:20:00               13.314                   82.720   \n",
       "30890 2024-06-27 08:30:00               32.617                   18.081   \n",
       "30891 2024-06-27 08:40:00                8.552                  306.184   \n",
       "30892 2024-06-27 08:50:00               10.341                   24.711   \n",
       "30893 2024-06-27 09:00:00               11.173                  241.662   \n",
       "\n",
       "       Chlorophyll  Temperature  Dissolved Oxygen  \\\n",
       "0            1.621       20.018             7.472   \n",
       "1            1.959       19.986             7.455   \n",
       "2            1.620       20.001             7.430   \n",
       "3            1.761       19.983             7.419   \n",
       "4            1.635       19.986             7.429   \n",
       "...            ...          ...               ...   \n",
       "30889        0.944       18.607             6.876   \n",
       "30890        1.161       18.551             6.918   \n",
       "30891        1.192       18.558             6.651   \n",
       "30892        1.031       18.547             6.740   \n",
       "30893        0.946       18.562             5.842   \n",
       "\n",
       "       Dissolved Oxygen (%Saturation)     pH  Salinity  Specific Conductance  \\\n",
       "0                             101.175  8.176    35.215                53.262   \n",
       "1                             100.884  8.175    35.209                53.254   \n",
       "2                             100.571  8.171    35.207                53.252   \n",
       "3                             100.398  8.171    35.211                53.257   \n",
       "4                             100.538  8.171    35.208                53.253   \n",
       "...                               ...    ...       ...                   ...   \n",
       "30889                          87.556  8.151    29.268                45.134   \n",
       "30890                          87.987  8.163    29.254                45.115   \n",
       "30891                          84.606  8.145    29.250                45.110   \n",
       "30892                          85.713  8.154    29.247                45.105   \n",
       "30893                          74.326  8.116    29.258                45.121   \n",
       "\n",
       "       Turbidity  \n",
       "0          2.068  \n",
       "1          1.994  \n",
       "2          2.030  \n",
       "3          1.973  \n",
       "4          1.944  \n",
       "...          ...  \n",
       "30889      3.963  \n",
       "30890      3.928  \n",
       "30891      4.097  \n",
       "30892      4.962  \n",
       "30893      5.078  \n",
       "\n",
       "[30894 rows x 11 columns]>"
      ]
     },
     "execution_count": 9,
     "metadata": {},
     "output_type": "execute_result"
    }
   ],
   "source": [
    "df.head"
   ]
  },
  {
   "cell_type": "code",
   "execution_count": 10,
   "metadata": {},
   "outputs": [
    {
     "data": {
      "text/html": [
       "<div>\n",
       "<style scoped>\n",
       "    .dataframe tbody tr th:only-of-type {\n",
       "        vertical-align: middle;\n",
       "    }\n",
       "\n",
       "    .dataframe tbody tr th {\n",
       "        vertical-align: top;\n",
       "    }\n",
       "\n",
       "    .dataframe thead th {\n",
       "        text-align: right;\n",
       "    }\n",
       "</style>\n",
       "<table border=\"1\" class=\"dataframe\">\n",
       "  <thead>\n",
       "    <tr style=\"text-align: right;\">\n",
       "      <th></th>\n",
       "      <th>Timestamp</th>\n",
       "      <th>Average Water Speed</th>\n",
       "      <th>Average Water Direction</th>\n",
       "      <th>Chlorophyll</th>\n",
       "      <th>Temperature</th>\n",
       "      <th>Dissolved Oxygen</th>\n",
       "      <th>Dissolved Oxygen (%Saturation)</th>\n",
       "      <th>pH</th>\n",
       "      <th>Salinity</th>\n",
       "      <th>Specific Conductance</th>\n",
       "      <th>Turbidity</th>\n",
       "      <th>Hour</th>\n",
       "      <th>DayOfYear</th>\n",
       "      <th>Month</th>\n",
       "    </tr>\n",
       "  </thead>\n",
       "  <tbody>\n",
       "    <tr>\n",
       "      <th>0</th>\n",
       "      <td>2023-08-04 23:00:00</td>\n",
       "      <td>4.834</td>\n",
       "      <td>73.484</td>\n",
       "      <td>1.621</td>\n",
       "      <td>20.018</td>\n",
       "      <td>7.472</td>\n",
       "      <td>101.175</td>\n",
       "      <td>8.176</td>\n",
       "      <td>35.215</td>\n",
       "      <td>53.262</td>\n",
       "      <td>2.068</td>\n",
       "      <td>23</td>\n",
       "      <td>216</td>\n",
       "      <td>8</td>\n",
       "    </tr>\n",
       "    <tr>\n",
       "      <th>1</th>\n",
       "      <td>2023-08-04 23:30:00</td>\n",
       "      <td>2.544</td>\n",
       "      <td>106.424</td>\n",
       "      <td>1.959</td>\n",
       "      <td>19.986</td>\n",
       "      <td>7.455</td>\n",
       "      <td>100.884</td>\n",
       "      <td>8.175</td>\n",
       "      <td>35.209</td>\n",
       "      <td>53.254</td>\n",
       "      <td>1.994</td>\n",
       "      <td>23</td>\n",
       "      <td>216</td>\n",
       "      <td>8</td>\n",
       "    </tr>\n",
       "    <tr>\n",
       "      <th>2</th>\n",
       "      <td>2023-08-04 23:00:00</td>\n",
       "      <td>1.260</td>\n",
       "      <td>156.755</td>\n",
       "      <td>1.620</td>\n",
       "      <td>20.001</td>\n",
       "      <td>7.430</td>\n",
       "      <td>100.571</td>\n",
       "      <td>8.171</td>\n",
       "      <td>35.207</td>\n",
       "      <td>53.252</td>\n",
       "      <td>2.030</td>\n",
       "      <td>23</td>\n",
       "      <td>216</td>\n",
       "      <td>8</td>\n",
       "    </tr>\n",
       "    <tr>\n",
       "      <th>3</th>\n",
       "      <td>2023-08-04 23:30:00</td>\n",
       "      <td>0.760</td>\n",
       "      <td>281.754</td>\n",
       "      <td>1.761</td>\n",
       "      <td>19.983</td>\n",
       "      <td>7.419</td>\n",
       "      <td>100.398</td>\n",
       "      <td>8.171</td>\n",
       "      <td>35.211</td>\n",
       "      <td>53.257</td>\n",
       "      <td>1.973</td>\n",
       "      <td>23</td>\n",
       "      <td>216</td>\n",
       "      <td>8</td>\n",
       "    </tr>\n",
       "    <tr>\n",
       "      <th>4</th>\n",
       "      <td>2023-08-04 23:00:00</td>\n",
       "      <td>3.397</td>\n",
       "      <td>244.637</td>\n",
       "      <td>1.635</td>\n",
       "      <td>19.986</td>\n",
       "      <td>7.429</td>\n",
       "      <td>100.538</td>\n",
       "      <td>8.171</td>\n",
       "      <td>35.208</td>\n",
       "      <td>53.253</td>\n",
       "      <td>1.944</td>\n",
       "      <td>23</td>\n",
       "      <td>216</td>\n",
       "      <td>8</td>\n",
       "    </tr>\n",
       "  </tbody>\n",
       "</table>\n",
       "</div>"
      ],
      "text/plain": [
       "            Timestamp  Average Water Speed  Average Water Direction  \\\n",
       "0 2023-08-04 23:00:00                4.834                   73.484   \n",
       "1 2023-08-04 23:30:00                2.544                  106.424   \n",
       "2 2023-08-04 23:00:00                1.260                  156.755   \n",
       "3 2023-08-04 23:30:00                0.760                  281.754   \n",
       "4 2023-08-04 23:00:00                3.397                  244.637   \n",
       "\n",
       "   Chlorophyll  Temperature  Dissolved Oxygen  Dissolved Oxygen (%Saturation)  \\\n",
       "0        1.621       20.018             7.472                         101.175   \n",
       "1        1.959       19.986             7.455                         100.884   \n",
       "2        1.620       20.001             7.430                         100.571   \n",
       "3        1.761       19.983             7.419                         100.398   \n",
       "4        1.635       19.986             7.429                         100.538   \n",
       "\n",
       "      pH  Salinity  Specific Conductance  Turbidity  Hour  DayOfYear  Month  \n",
       "0  8.176    35.215                53.262      2.068    23        216      8  \n",
       "1  8.175    35.209                53.254      1.994    23        216      8  \n",
       "2  8.171    35.207                53.252      2.030    23        216      8  \n",
       "3  8.171    35.211                53.257      1.973    23        216      8  \n",
       "4  8.171    35.208                53.253      1.944    23        216      8  "
      ]
     },
     "execution_count": 10,
     "metadata": {},
     "output_type": "execute_result"
    }
   ],
   "source": [
    "df['Hour'] = df['Timestamp'].dt.hour\n",
    "df['DayOfYear'] = df['Timestamp'].dt.dayofyear\n",
    "df['Month'] = df['Timestamp'].dt.month\n",
    "\n",
    "df.head()"
   ]
  },
  {
   "cell_type": "code",
   "execution_count": 11,
   "metadata": {},
   "outputs": [
    {
     "name": "stdout",
     "output_type": "stream",
     "text": [
      "Duplicate timestamps exist:\n",
      "                Timestamp  Average Water Speed  Average Water Direction  \\\n",
      "0     2023-08-04 23:00:00                4.834                   73.484   \n",
      "1     2023-08-04 23:30:00                2.544                  106.424   \n",
      "2     2023-08-04 23:00:00                1.260                  156.755   \n",
      "3     2023-08-04 23:30:00                0.760                  281.754   \n",
      "4     2023-08-04 23:00:00                3.397                  244.637   \n",
      "...                   ...                  ...                      ...   \n",
      "30459 2024-06-24 09:00:00               23.286                  102.621   \n",
      "30603 2024-06-25 09:00:00                5.070                   29.750   \n",
      "30604 2024-06-25 09:00:00                5.070                   29.750   \n",
      "30748 2024-06-26 09:00:00               42.538                  212.200   \n",
      "30749 2024-06-26 09:00:00               42.538                  212.200   \n",
      "\n",
      "       Chlorophyll  Temperature  Dissolved Oxygen  \\\n",
      "0            1.621       20.018             7.472   \n",
      "1            1.959       19.986             7.455   \n",
      "2            1.620       20.001             7.430   \n",
      "3            1.761       19.983             7.419   \n",
      "4            1.635       19.986             7.429   \n",
      "...            ...          ...               ...   \n",
      "30459        1.038          NaN             7.343   \n",
      "30603        1.214          NaN             7.465   \n",
      "30604        1.214          NaN             7.465   \n",
      "30748        1.328       17.848             7.160   \n",
      "30749        1.328       17.848             7.160   \n",
      "\n",
      "       Dissolved Oxygen (%Saturation)     pH  Salinity  Specific Conductance  \\\n",
      "0                             101.175  8.176    35.215                53.262   \n",
      "1                             100.884  8.175    35.209                53.254   \n",
      "2                             100.571  8.171    35.207                53.252   \n",
      "3                             100.398  8.171    35.211                53.257   \n",
      "4                             100.538  8.171    35.208                53.253   \n",
      "...                               ...    ...       ...                   ...   \n",
      "30459                          89.449  8.196    29.491                45.464   \n",
      "30603                          92.065  8.176    29.196                45.044   \n",
      "30604                          92.065  8.176    29.196                45.044   \n",
      "30748                          89.824  8.157    29.213                45.061   \n",
      "30749                          89.824  8.157    29.213                45.061   \n",
      "\n",
      "       Turbidity  Hour  DayOfYear  Month  \n",
      "0          2.068    23        216      8  \n",
      "1          1.994    23        216      8  \n",
      "2          2.030    23        216      8  \n",
      "3          1.973    23        216      8  \n",
      "4          1.944    23        216      8  \n",
      "...          ...   ...        ...    ...  \n",
      "30459      2.940     9        176      6  \n",
      "30603      2.619     9        177      6  \n",
      "30604      2.619     9        177      6  \n",
      "30748      3.674     9        178      6  \n",
      "30749      3.674     9        178      6  \n",
      "\n",
      "[557 rows x 14 columns]\n"
     ]
    }
   ],
   "source": [
    "duplicate_timestamps = df[df.duplicated(subset=['Timestamp'], keep=False)]\n",
    "if not duplicate_timestamps.empty:\n",
    "    print(\"Duplicate timestamps exist:\")\n",
    "    print(duplicate_timestamps)\n",
    "else:\n",
    "    print(\"No duplicate timestamps found.\")"
   ]
  },
  {
   "cell_type": "code",
   "execution_count": 12,
   "metadata": {},
   "outputs": [
    {
     "data": {
      "text/plain": [
       "(30614, 13)"
      ]
     },
     "execution_count": 12,
     "metadata": {},
     "output_type": "execute_result"
    }
   ],
   "source": [
    "# Remove duplicate timestamps by averaging values for duplicate timestamps\n",
    "df.set_index('Timestamp', inplace=True)\n",
    "df = df.groupby(df.index).mean()\n",
    "\n",
    "df.shape"
   ]
  },
  {
   "cell_type": "code",
   "execution_count": 13,
   "metadata": {},
   "outputs": [
    {
     "name": "stdout",
     "output_type": "stream",
     "text": [
      "<class 'pandas.core.frame.DataFrame'>\n",
      "DatetimeIndex: 30614 entries, 2023-08-04 23:00:00 to 2024-06-27 09:00:00\n",
      "Data columns (total 13 columns):\n",
      " #   Column                          Non-Null Count  Dtype  \n",
      "---  ------                          --------------  -----  \n",
      " 0   Average Water Speed             30594 non-null  float64\n",
      " 1   Average Water Direction         30613 non-null  float64\n",
      " 2   Chlorophyll                     30041 non-null  float64\n",
      " 3   Temperature                     25491 non-null  float64\n",
      " 4   Dissolved Oxygen                26370 non-null  float64\n",
      " 5   Dissolved Oxygen (%Saturation)  24938 non-null  float64\n",
      " 6   pH                              29546 non-null  float64\n",
      " 7   Salinity                        26705 non-null  float64\n",
      " 8   Specific Conductance            29266 non-null  float64\n",
      " 9   Turbidity                       28654 non-null  float64\n",
      " 10  Hour                            30614 non-null  float64\n",
      " 11  DayOfYear                       30614 non-null  float64\n",
      " 12  Month                           30614 non-null  float64\n",
      "dtypes: float64(13)\n",
      "memory usage: 3.3 MB\n"
     ]
    }
   ],
   "source": [
    "df.info()"
   ]
  },
  {
   "cell_type": "code",
   "execution_count": 14,
   "metadata": {},
   "outputs": [
    {
     "name": "stdout",
     "output_type": "stream",
     "text": [
      "Columns with negative values:\n",
      "Average Water Speed               0\n",
      "Average Water Direction           0\n",
      "Chlorophyll                       0\n",
      "Temperature                       0\n",
      "Dissolved Oxygen                  0\n",
      "Dissolved Oxygen (%Saturation)    0\n",
      "pH                                0\n",
      "Salinity                          0\n",
      "Specific Conductance              0\n",
      "Turbidity                         0\n",
      "Hour                              0\n",
      "DayOfYear                         0\n",
      "Month                             0\n",
      "dtype: int64\n"
     ]
    }
   ],
   "source": [
    "# Check for negative values in each column\n",
    "negative_counts = (df < 0).sum()\n",
    "\n",
    "print(\"Columns with negative values:\")\n",
    "print(negative_counts)\n"
   ]
  },
  {
   "cell_type": "code",
   "execution_count": 15,
   "metadata": {},
   "outputs": [
    {
     "data": {
      "text/plain": [
       "Average Water Speed                 20\n",
       "Average Water Direction              1\n",
       "Chlorophyll                        573\n",
       "Temperature                       5123\n",
       "Dissolved Oxygen                  4244\n",
       "Dissolved Oxygen (%Saturation)    5676\n",
       "pH                                1068\n",
       "Salinity                          3909\n",
       "Specific Conductance              1348\n",
       "Turbidity                         1960\n",
       "Hour                                 0\n",
       "DayOfYear                            0\n",
       "Month                                0\n",
       "dtype: int64"
      ]
     },
     "execution_count": 15,
     "metadata": {},
     "output_type": "execute_result"
    }
   ],
   "source": [
    "# Check for missing values before imputation\n",
    "df.isnull().sum()"
   ]
  },
  {
   "cell_type": "code",
   "execution_count": 16,
   "metadata": {},
   "outputs": [
    {
     "data": {
      "text/plain": [
       "Average Water Speed               0\n",
       "Average Water Direction           0\n",
       "Chlorophyll                       0\n",
       "Temperature                       0\n",
       "Dissolved Oxygen                  0\n",
       "Dissolved Oxygen (%Saturation)    0\n",
       "pH                                0\n",
       "Salinity                          0\n",
       "Specific Conductance              0\n",
       "Turbidity                         0\n",
       "Hour                              0\n",
       "DayOfYear                         0\n",
       "Month                             0\n",
       "dtype: int64"
      ]
     },
     "execution_count": 16,
     "metadata": {},
     "output_type": "execute_result"
    }
   ],
   "source": [
    "from sklearn.impute import SimpleImputer\n",
    "\n",
    "imputer = SimpleImputer(strategy='median') \n",
    "\n",
    "# Fit the imputer on the DataFrame's numerical columns\n",
    "numerical_cols = df.select_dtypes(include=['number']).columns\n",
    "df[numerical_cols] = imputer.fit_transform(df[numerical_cols])\n",
    "\n",
    "# Check for missing values after imputation\n",
    "df.isnull().sum()"
   ]
  },
  {
   "cell_type": "code",
   "execution_count": 17,
   "metadata": {},
   "outputs": [
    {
     "name": "stdout",
     "output_type": "stream",
     "text": [
      "\n",
      "Outlier counts BEFORE removal:\n",
      "Average Water Speed: 410 outliers\n",
      "Average Water Direction: 0 outliers\n",
      "Chlorophyll: 357 outliers\n",
      "Temperature: 0 outliers\n",
      "Dissolved Oxygen: 264 outliers\n",
      "Dissolved Oxygen (%Saturation): 402 outliers\n",
      "pH: 42 outliers\n",
      "Salinity: 368 outliers\n",
      "Specific Conductance: 375 outliers\n",
      "Turbidity: 600 outliers\n",
      "Hour: 0 outliers\n",
      "DayOfYear: 0 outliers\n",
      "Month: 0 outliers\n",
      "\n",
      "Total rows to be removed: 2112\n",
      "\n",
      "Original shape: (30614, 13)\n",
      "Cleaned shape: (28502, 13)\n"
     ]
    }
   ],
   "source": [
    "import pandas as pd\n",
    "import numpy as np\n",
    "from scipy import stats\n",
    "import matplotlib.pyplot as plt\n",
    "\n",
    "def detect_outliers_zscore(df, threshold=3):\n",
    "    outlier_counts = {}\n",
    "    outlier_indices = set()\n",
    "\n",
    "    for col in df.select_dtypes(include=[np.number]).columns:\n",
    "        z_scores = np.abs((df[col] - df[col].mean()) / df[col].std())\n",
    "        outliers = df[z_scores >= threshold]\n",
    "        outlier_counts[col] = len(outliers)\n",
    "        outlier_indices.update(outliers.index)  # store row indices\n",
    "\n",
    "    return outlier_counts, outlier_indices\n",
    "\n",
    "def remove_outliers_zscore(df, threshold=3):\n",
    "    outlier_counts_before, outlier_indices = detect_outliers_zscore(df, threshold)\n",
    "\n",
    "    print(\"\\nOutlier counts BEFORE removal:\")\n",
    "    for col, count in outlier_counts_before.items():\n",
    "        print(f\"{col}: {count} outliers\")\n",
    "\n",
    "    print(f\"\\nTotal rows to be removed: {len(outlier_indices)}\")\n",
    "\n",
    "    # Remove outlier rows\n",
    "    df_cleaned = df.drop(index=outlier_indices).reset_index(drop=True)\n",
    "\n",
    "    # Detect outliers again after removal\n",
    "    outlier_counts_after, _ = detect_outliers_zscore(df_cleaned, threshold)\n",
    "\n",
    "    print(f\"\\nOriginal shape: {df.shape}\")\n",
    "    print(f\"Cleaned shape: {df_cleaned.shape}\")\n",
    "\n",
    "    return df_cleaned\n",
    "\n",
    "df = remove_outliers_zscore(df, threshold=3)"
   ]
  },
  {
   "cell_type": "code",
   "execution_count": 18,
   "metadata": {},
   "outputs": [
    {
     "data": {
      "text/plain": [
       "['water_quality_scaler.pkl']"
      ]
     },
     "execution_count": 18,
     "metadata": {},
     "output_type": "execute_result"
    }
   ],
   "source": [
    "from sklearn.preprocessing import StandardScaler\n",
    "\n",
    "# Create an instance of StandardScaler\n",
    "scaler = StandardScaler()\n",
    "\n",
    "# Scale the data and convert back to DataFrame\n",
    "scaled_data = scaler.fit_transform(df)\n",
    "df = pd.DataFrame(scaled_data, columns=df.columns, index=df.index)\n",
    "\n",
    "# Now you can use DataFrame methods\n",
    "df.head()\n",
    "\n",
    "# Save scaler and PCA objects for later use\n",
    "import joblib\n",
    "joblib.dump(scaler, 'water_quality_scaler.pkl')"
   ]
  },
  {
   "cell_type": "code",
   "execution_count": 19,
   "metadata": {},
   "outputs": [
    {
     "data": {
      "text/plain": [
       "['water_quality_pca.pkl']"
      ]
     },
     "execution_count": 19,
     "metadata": {},
     "output_type": "execute_result"
    }
   ],
   "source": [
    "from sklearn.decomposition import PCA\n",
    "import pandas as pd\n",
    "# Perform PCA\n",
    "pca = PCA(n_components=0.95)\n",
    "df = pca.fit_transform(df)\n",
    "df = pd.DataFrame(df)  # Use the original column names\n",
    "df.shape\n",
    "\n",
    "joblib.dump(pca, 'water_quality_pca.pkl')\n"
   ]
  },
  {
   "cell_type": "code",
   "execution_count": 20,
   "metadata": {},
   "outputs": [
    {
     "name": "stdout",
     "output_type": "stream",
     "text": [
      "DataFrame successfully saved to preprocessed_water_quality.csv\n"
     ]
    }
   ],
   "source": [
    "# Specify the file path and name\n",
    "name = 'preprocessed_water_quality.csv'  \n",
    "\n",
    "# Save the DataFrame to a CSV file\n",
    "df.to_csv(name, index=True)  \n",
    "\n",
    "print(f\"DataFrame successfully saved to {name}\")"
   ]
  },
  {
   "cell_type": "code",
   "execution_count": 21,
   "metadata": {},
   "outputs": [
    {
     "data": {
      "text/html": [
       "<div>\n",
       "<style scoped>\n",
       "    .dataframe tbody tr th:only-of-type {\n",
       "        vertical-align: middle;\n",
       "    }\n",
       "\n",
       "    .dataframe tbody tr th {\n",
       "        vertical-align: top;\n",
       "    }\n",
       "\n",
       "    .dataframe thead th {\n",
       "        text-align: right;\n",
       "    }\n",
       "</style>\n",
       "<table border=\"1\" class=\"dataframe\">\n",
       "  <thead>\n",
       "    <tr style=\"text-align: right;\">\n",
       "      <th></th>\n",
       "      <th>0</th>\n",
       "      <th>1</th>\n",
       "      <th>2</th>\n",
       "      <th>3</th>\n",
       "      <th>4</th>\n",
       "      <th>5</th>\n",
       "      <th>6</th>\n",
       "      <th>7</th>\n",
       "      <th>8</th>\n",
       "    </tr>\n",
       "  </thead>\n",
       "  <tbody>\n",
       "    <tr>\n",
       "      <th>0</th>\n",
       "      <td>1.897854</td>\n",
       "      <td>2.562362</td>\n",
       "      <td>-0.104782</td>\n",
       "      <td>-0.963767</td>\n",
       "      <td>0.158439</td>\n",
       "      <td>0.351743</td>\n",
       "      <td>1.284932</td>\n",
       "      <td>0.145764</td>\n",
       "      <td>1.000324</td>\n",
       "    </tr>\n",
       "    <tr>\n",
       "      <th>1</th>\n",
       "      <td>1.877281</td>\n",
       "      <td>2.567332</td>\n",
       "      <td>-0.078607</td>\n",
       "      <td>-0.790027</td>\n",
       "      <td>0.434334</td>\n",
       "      <td>0.369553</td>\n",
       "      <td>1.202859</td>\n",
       "      <td>0.257459</td>\n",
       "      <td>1.001855</td>\n",
       "    </tr>\n",
       "    <tr>\n",
       "      <th>2</th>\n",
       "      <td>1.959166</td>\n",
       "      <td>1.417454</td>\n",
       "      <td>-1.168130</td>\n",
       "      <td>-1.553946</td>\n",
       "      <td>-0.724438</td>\n",
       "      <td>-1.359210</td>\n",
       "      <td>-1.008425</td>\n",
       "      <td>-0.381034</td>\n",
       "      <td>1.231552</td>\n",
       "    </tr>\n",
       "    <tr>\n",
       "      <th>3</th>\n",
       "      <td>1.983467</td>\n",
       "      <td>1.477385</td>\n",
       "      <td>-1.169859</td>\n",
       "      <td>-1.820416</td>\n",
       "      <td>-0.153825</td>\n",
       "      <td>-1.339433</td>\n",
       "      <td>-0.921679</td>\n",
       "      <td>-0.404807</td>\n",
       "      <td>1.127033</td>\n",
       "    </tr>\n",
       "    <tr>\n",
       "      <th>4</th>\n",
       "      <td>1.942489</td>\n",
       "      <td>1.493230</td>\n",
       "      <td>-1.175911</td>\n",
       "      <td>-1.482212</td>\n",
       "      <td>-0.739944</td>\n",
       "      <td>-1.292218</td>\n",
       "      <td>-0.909097</td>\n",
       "      <td>-0.294695</td>\n",
       "      <td>1.287248</td>\n",
       "    </tr>\n",
       "  </tbody>\n",
       "</table>\n",
       "</div>"
      ],
      "text/plain": [
       "          0         1         2         3         4         5         6  \\\n",
       "0  1.897854  2.562362 -0.104782 -0.963767  0.158439  0.351743  1.284932   \n",
       "1  1.877281  2.567332 -0.078607 -0.790027  0.434334  0.369553  1.202859   \n",
       "2  1.959166  1.417454 -1.168130 -1.553946 -0.724438 -1.359210 -1.008425   \n",
       "3  1.983467  1.477385 -1.169859 -1.820416 -0.153825 -1.339433 -0.921679   \n",
       "4  1.942489  1.493230 -1.175911 -1.482212 -0.739944 -1.292218 -0.909097   \n",
       "\n",
       "          7         8  \n",
       "0  0.145764  1.000324  \n",
       "1  0.257459  1.001855  \n",
       "2 -0.381034  1.231552  \n",
       "3 -0.404807  1.127033  \n",
       "4 -0.294695  1.287248  "
      ]
     },
     "execution_count": 21,
     "metadata": {},
     "output_type": "execute_result"
    }
   ],
   "source": [
    "df.head()"
   ]
  },
  {
   "cell_type": "code",
   "execution_count": null,
   "metadata": {},
   "outputs": [],
   "source": []
  }
 ],
 "metadata": {
  "kernelspec": {
   "display_name": ".venv",
   "language": "python",
   "name": "python3"
  },
  "language_info": {
   "codemirror_mode": {
    "name": "ipython",
    "version": 3
   },
   "file_extension": ".py",
   "mimetype": "text/x-python",
   "name": "python",
   "nbconvert_exporter": "python",
   "pygments_lexer": "ipython3",
   "version": "3.9.6"
  }
 },
 "nbformat": 4,
 "nbformat_minor": 2
}
