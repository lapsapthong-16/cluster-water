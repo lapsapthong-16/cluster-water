{
 "cells": [
  {
   "cell_type": "code",
   "execution_count": 38,
   "metadata": {},
   "outputs": [],
   "source": [
    "import pandas as pd\n",
    "import matplotlib.pyplot as plt\n",
    "import seaborn as sns\n",
    "import numpy as np\n",
    "\n",
    "df = pd.read_csv('brisbane_water_quality.csv')"
   ]
  },
  {
   "cell_type": "code",
   "execution_count": 39,
   "metadata": {},
   "outputs": [],
   "source": [
    "# Drop columns with quality information\n",
    "df = df.drop(columns=['Dissolved Oxygen [quality]', 'Chlorophyll [quality]', 'Temperature [quality]',\n",
    "                      'Dissolved Oxygen (%Saturation) [quality]', 'pH [quality]', 'Salinity [quality]',\n",
    "                      'Specific Conductance [quality]', 'Turbidity [quality]', 'Record number'], errors='ignore')"
   ]
  },
  {
   "cell_type": "code",
   "execution_count": 40,
   "metadata": {},
   "outputs": [
    {
     "data": {
      "text/plain": [
       "(30894, 11)"
      ]
     },
     "execution_count": 40,
     "metadata": {},
     "output_type": "execute_result"
    }
   ],
   "source": [
    "df.shape"
   ]
  },
  {
   "cell_type": "code",
   "execution_count": 41,
   "metadata": {},
   "outputs": [],
   "source": [
    "# Convert 'Timestamp' column to datetime \n",
    "df['Timestamp'] = pd.to_datetime(df['Timestamp'])"
   ]
  },
  {
   "cell_type": "code",
   "execution_count": 42,
   "metadata": {},
   "outputs": [
    {
     "data": {
      "text/plain": [
       "<bound method NDFrame.head of                 Timestamp  Average Water Speed  Average Water Direction  \\\n",
       "0     2023-08-04 23:00:00                4.834                   73.484   \n",
       "1     2023-08-04 23:30:00                2.544                  106.424   \n",
       "2     2023-08-04 23:00:00                1.260                  156.755   \n",
       "3     2023-08-04 23:30:00                0.760                  281.754   \n",
       "4     2023-08-04 23:00:00                3.397                  244.637   \n",
       "...                   ...                  ...                      ...   \n",
       "30889 2024-06-27 08:20:00               13.314                   82.720   \n",
       "30890 2024-06-27 08:30:00               32.617                   18.081   \n",
       "30891 2024-06-27 08:40:00                8.552                  306.184   \n",
       "30892 2024-06-27 08:50:00               10.341                   24.711   \n",
       "30893 2024-06-27 09:00:00               11.173                  241.662   \n",
       "\n",
       "       Chlorophyll  Temperature  Dissolved Oxygen  \\\n",
       "0            1.621       20.018             7.472   \n",
       "1            1.959       19.986             7.455   \n",
       "2            1.620       20.001             7.430   \n",
       "3            1.761       19.983             7.419   \n",
       "4            1.635       19.986             7.429   \n",
       "...            ...          ...               ...   \n",
       "30889        0.944       18.607             6.876   \n",
       "30890        1.161       18.551             6.918   \n",
       "30891        1.192       18.558             6.651   \n",
       "30892        1.031       18.547             6.740   \n",
       "30893        0.946       18.562             5.842   \n",
       "\n",
       "       Dissolved Oxygen (%Saturation)     pH  Salinity  Specific Conductance  \\\n",
       "0                             101.175  8.176    35.215                53.262   \n",
       "1                             100.884  8.175    35.209                53.254   \n",
       "2                             100.571  8.171    35.207                53.252   \n",
       "3                             100.398  8.171    35.211                53.257   \n",
       "4                             100.538  8.171    35.208                53.253   \n",
       "...                               ...    ...       ...                   ...   \n",
       "30889                          87.556  8.151    29.268                45.134   \n",
       "30890                          87.987  8.163    29.254                45.115   \n",
       "30891                          84.606  8.145    29.250                45.110   \n",
       "30892                          85.713  8.154    29.247                45.105   \n",
       "30893                          74.326  8.116    29.258                45.121   \n",
       "\n",
       "       Turbidity  \n",
       "0          2.068  \n",
       "1          1.994  \n",
       "2          2.030  \n",
       "3          1.973  \n",
       "4          1.944  \n",
       "...          ...  \n",
       "30889      3.963  \n",
       "30890      3.928  \n",
       "30891      4.097  \n",
       "30892      4.962  \n",
       "30893      5.078  \n",
       "\n",
       "[30894 rows x 11 columns]>"
      ]
     },
     "execution_count": 42,
     "metadata": {},
     "output_type": "execute_result"
    }
   ],
   "source": [
    "df.head"
   ]
  },
  {
   "cell_type": "code",
   "execution_count": 43,
   "metadata": {},
   "outputs": [
    {
     "data": {
      "text/html": [
       "<div>\n",
       "<style scoped>\n",
       "    .dataframe tbody tr th:only-of-type {\n",
       "        vertical-align: middle;\n",
       "    }\n",
       "\n",
       "    .dataframe tbody tr th {\n",
       "        vertical-align: top;\n",
       "    }\n",
       "\n",
       "    .dataframe thead th {\n",
       "        text-align: right;\n",
       "    }\n",
       "</style>\n",
       "<table border=\"1\" class=\"dataframe\">\n",
       "  <thead>\n",
       "    <tr style=\"text-align: right;\">\n",
       "      <th></th>\n",
       "      <th>Timestamp</th>\n",
       "      <th>Average Water Speed</th>\n",
       "      <th>Average Water Direction</th>\n",
       "      <th>Chlorophyll</th>\n",
       "      <th>Temperature</th>\n",
       "      <th>Dissolved Oxygen</th>\n",
       "      <th>Dissolved Oxygen (%Saturation)</th>\n",
       "      <th>pH</th>\n",
       "      <th>Salinity</th>\n",
       "      <th>Specific Conductance</th>\n",
       "      <th>Turbidity</th>\n",
       "      <th>Hour</th>\n",
       "      <th>DayOfYear</th>\n",
       "      <th>Month</th>\n",
       "    </tr>\n",
       "  </thead>\n",
       "  <tbody>\n",
       "    <tr>\n",
       "      <th>0</th>\n",
       "      <td>2023-08-04 23:00:00</td>\n",
       "      <td>4.834</td>\n",
       "      <td>73.484</td>\n",
       "      <td>1.621</td>\n",
       "      <td>20.018</td>\n",
       "      <td>7.472</td>\n",
       "      <td>101.175</td>\n",
       "      <td>8.176</td>\n",
       "      <td>35.215</td>\n",
       "      <td>53.262</td>\n",
       "      <td>2.068</td>\n",
       "      <td>23</td>\n",
       "      <td>216</td>\n",
       "      <td>8</td>\n",
       "    </tr>\n",
       "    <tr>\n",
       "      <th>1</th>\n",
       "      <td>2023-08-04 23:30:00</td>\n",
       "      <td>2.544</td>\n",
       "      <td>106.424</td>\n",
       "      <td>1.959</td>\n",
       "      <td>19.986</td>\n",
       "      <td>7.455</td>\n",
       "      <td>100.884</td>\n",
       "      <td>8.175</td>\n",
       "      <td>35.209</td>\n",
       "      <td>53.254</td>\n",
       "      <td>1.994</td>\n",
       "      <td>23</td>\n",
       "      <td>216</td>\n",
       "      <td>8</td>\n",
       "    </tr>\n",
       "    <tr>\n",
       "      <th>2</th>\n",
       "      <td>2023-08-04 23:00:00</td>\n",
       "      <td>1.260</td>\n",
       "      <td>156.755</td>\n",
       "      <td>1.620</td>\n",
       "      <td>20.001</td>\n",
       "      <td>7.430</td>\n",
       "      <td>100.571</td>\n",
       "      <td>8.171</td>\n",
       "      <td>35.207</td>\n",
       "      <td>53.252</td>\n",
       "      <td>2.030</td>\n",
       "      <td>23</td>\n",
       "      <td>216</td>\n",
       "      <td>8</td>\n",
       "    </tr>\n",
       "    <tr>\n",
       "      <th>3</th>\n",
       "      <td>2023-08-04 23:30:00</td>\n",
       "      <td>0.760</td>\n",
       "      <td>281.754</td>\n",
       "      <td>1.761</td>\n",
       "      <td>19.983</td>\n",
       "      <td>7.419</td>\n",
       "      <td>100.398</td>\n",
       "      <td>8.171</td>\n",
       "      <td>35.211</td>\n",
       "      <td>53.257</td>\n",
       "      <td>1.973</td>\n",
       "      <td>23</td>\n",
       "      <td>216</td>\n",
       "      <td>8</td>\n",
       "    </tr>\n",
       "    <tr>\n",
       "      <th>4</th>\n",
       "      <td>2023-08-04 23:00:00</td>\n",
       "      <td>3.397</td>\n",
       "      <td>244.637</td>\n",
       "      <td>1.635</td>\n",
       "      <td>19.986</td>\n",
       "      <td>7.429</td>\n",
       "      <td>100.538</td>\n",
       "      <td>8.171</td>\n",
       "      <td>35.208</td>\n",
       "      <td>53.253</td>\n",
       "      <td>1.944</td>\n",
       "      <td>23</td>\n",
       "      <td>216</td>\n",
       "      <td>8</td>\n",
       "    </tr>\n",
       "  </tbody>\n",
       "</table>\n",
       "</div>"
      ],
      "text/plain": [
       "            Timestamp  Average Water Speed  Average Water Direction  \\\n",
       "0 2023-08-04 23:00:00                4.834                   73.484   \n",
       "1 2023-08-04 23:30:00                2.544                  106.424   \n",
       "2 2023-08-04 23:00:00                1.260                  156.755   \n",
       "3 2023-08-04 23:30:00                0.760                  281.754   \n",
       "4 2023-08-04 23:00:00                3.397                  244.637   \n",
       "\n",
       "   Chlorophyll  Temperature  Dissolved Oxygen  Dissolved Oxygen (%Saturation)  \\\n",
       "0        1.621       20.018             7.472                         101.175   \n",
       "1        1.959       19.986             7.455                         100.884   \n",
       "2        1.620       20.001             7.430                         100.571   \n",
       "3        1.761       19.983             7.419                         100.398   \n",
       "4        1.635       19.986             7.429                         100.538   \n",
       "\n",
       "      pH  Salinity  Specific Conductance  Turbidity  Hour  DayOfYear  Month  \n",
       "0  8.176    35.215                53.262      2.068    23        216      8  \n",
       "1  8.175    35.209                53.254      1.994    23        216      8  \n",
       "2  8.171    35.207                53.252      2.030    23        216      8  \n",
       "3  8.171    35.211                53.257      1.973    23        216      8  \n",
       "4  8.171    35.208                53.253      1.944    23        216      8  "
      ]
     },
     "execution_count": 43,
     "metadata": {},
     "output_type": "execute_result"
    }
   ],
   "source": [
    "df['Hour'] = df['Timestamp'].dt.hour\n",
    "df['DayOfYear'] = df['Timestamp'].dt.dayofyear\n",
    "df['Month'] = df['Timestamp'].dt.month\n",
    "\n",
    "df.head()"
   ]
  },
  {
   "cell_type": "code",
   "execution_count": 44,
   "metadata": {},
   "outputs": [
    {
     "name": "stdout",
     "output_type": "stream",
     "text": [
      "Duplicate timestamps exist:\n",
      "                Timestamp  Average Water Speed  Average Water Direction  \\\n",
      "0     2023-08-04 23:00:00                4.834                   73.484   \n",
      "1     2023-08-04 23:30:00                2.544                  106.424   \n",
      "2     2023-08-04 23:00:00                1.260                  156.755   \n",
      "3     2023-08-04 23:30:00                0.760                  281.754   \n",
      "4     2023-08-04 23:00:00                3.397                  244.637   \n",
      "...                   ...                  ...                      ...   \n",
      "30459 2024-06-24 09:00:00               23.286                  102.621   \n",
      "30603 2024-06-25 09:00:00                5.070                   29.750   \n",
      "30604 2024-06-25 09:00:00                5.070                   29.750   \n",
      "30748 2024-06-26 09:00:00               42.538                  212.200   \n",
      "30749 2024-06-26 09:00:00               42.538                  212.200   \n",
      "\n",
      "       Chlorophyll  Temperature  Dissolved Oxygen  \\\n",
      "0            1.621       20.018             7.472   \n",
      "1            1.959       19.986             7.455   \n",
      "2            1.620       20.001             7.430   \n",
      "3            1.761       19.983             7.419   \n",
      "4            1.635       19.986             7.429   \n",
      "...            ...          ...               ...   \n",
      "30459        1.038          NaN             7.343   \n",
      "30603        1.214          NaN             7.465   \n",
      "30604        1.214          NaN             7.465   \n",
      "30748        1.328       17.848             7.160   \n",
      "30749        1.328       17.848             7.160   \n",
      "\n",
      "       Dissolved Oxygen (%Saturation)     pH  Salinity  Specific Conductance  \\\n",
      "0                             101.175  8.176    35.215                53.262   \n",
      "1                             100.884  8.175    35.209                53.254   \n",
      "2                             100.571  8.171    35.207                53.252   \n",
      "3                             100.398  8.171    35.211                53.257   \n",
      "4                             100.538  8.171    35.208                53.253   \n",
      "...                               ...    ...       ...                   ...   \n",
      "30459                          89.449  8.196    29.491                45.464   \n",
      "30603                          92.065  8.176    29.196                45.044   \n",
      "30604                          92.065  8.176    29.196                45.044   \n",
      "30748                          89.824  8.157    29.213                45.061   \n",
      "30749                          89.824  8.157    29.213                45.061   \n",
      "\n",
      "       Turbidity  Hour  DayOfYear  Month  \n",
      "0          2.068    23        216      8  \n",
      "1          1.994    23        216      8  \n",
      "2          2.030    23        216      8  \n",
      "3          1.973    23        216      8  \n",
      "4          1.944    23        216      8  \n",
      "...          ...   ...        ...    ...  \n",
      "30459      2.940     9        176      6  \n",
      "30603      2.619     9        177      6  \n",
      "30604      2.619     9        177      6  \n",
      "30748      3.674     9        178      6  \n",
      "30749      3.674     9        178      6  \n",
      "\n",
      "[557 rows x 14 columns]\n"
     ]
    }
   ],
   "source": [
    "duplicate_timestamps = df[df.duplicated(subset=['Timestamp'], keep=False)]\n",
    "if not duplicate_timestamps.empty:\n",
    "    print(\"Duplicate timestamps exist:\")\n",
    "    print(duplicate_timestamps)\n",
    "else:\n",
    "    print(\"No duplicate timestamps found.\")"
   ]
  },
  {
   "cell_type": "code",
   "execution_count": 45,
   "metadata": {},
   "outputs": [
    {
     "name": "stdout",
     "output_type": "stream",
     "text": [
      "<class 'pandas.core.frame.DataFrame'>\n",
      "RangeIndex: 30894 entries, 0 to 30893\n",
      "Data columns (total 14 columns):\n",
      " #   Column                          Non-Null Count  Dtype         \n",
      "---  ------                          --------------  -----         \n",
      " 0   Timestamp                       30894 non-null  datetime64[ns]\n",
      " 1   Average Water Speed             30874 non-null  float64       \n",
      " 2   Average Water Direction         30893 non-null  float64       \n",
      " 3   Chlorophyll                     30309 non-null  float64       \n",
      " 4   Temperature                     25730 non-null  float64       \n",
      " 5   Dissolved Oxygen                26594 non-null  float64       \n",
      " 6   Dissolved Oxygen (%Saturation)  25145 non-null  float64       \n",
      " 7   pH                              29810 non-null  float64       \n",
      " 8   Salinity                        26936 non-null  float64       \n",
      " 9   Specific Conductance            29527 non-null  float64       \n",
      " 10  Turbidity                       28894 non-null  float64       \n",
      " 11  Hour                            30894 non-null  int32         \n",
      " 12  DayOfYear                       30894 non-null  int32         \n",
      " 13  Month                           30894 non-null  int32         \n",
      "dtypes: datetime64[ns](1), float64(10), int32(3)\n",
      "memory usage: 2.9 MB\n"
     ]
    }
   ],
   "source": [
    "df.info()"
   ]
  },
  {
   "cell_type": "code",
   "execution_count": 46,
   "metadata": {},
   "outputs": [
    {
     "data": {
      "text/plain": [
       "(30614, 13)"
      ]
     },
     "execution_count": 46,
     "metadata": {},
     "output_type": "execute_result"
    }
   ],
   "source": [
    "# Remove duplicate timestamps by averaging values for duplicate timestamps\n",
    "df.set_index('Timestamp', inplace=True)\n",
    "df = df.groupby(df.index).mean()\n",
    "\n",
    "df.shape"
   ]
  },
  {
   "cell_type": "code",
   "execution_count": 47,
   "metadata": {},
   "outputs": [
    {
     "name": "stdout",
     "output_type": "stream",
     "text": [
      "<class 'pandas.core.frame.DataFrame'>\n",
      "DatetimeIndex: 30614 entries, 2023-08-04 23:00:00 to 2024-06-27 09:00:00\n",
      "Data columns (total 13 columns):\n",
      " #   Column                          Non-Null Count  Dtype  \n",
      "---  ------                          --------------  -----  \n",
      " 0   Average Water Speed             30594 non-null  float64\n",
      " 1   Average Water Direction         30613 non-null  float64\n",
      " 2   Chlorophyll                     30041 non-null  float64\n",
      " 3   Temperature                     25491 non-null  float64\n",
      " 4   Dissolved Oxygen                26370 non-null  float64\n",
      " 5   Dissolved Oxygen (%Saturation)  24938 non-null  float64\n",
      " 6   pH                              29546 non-null  float64\n",
      " 7   Salinity                        26705 non-null  float64\n",
      " 8   Specific Conductance            29266 non-null  float64\n",
      " 9   Turbidity                       28654 non-null  float64\n",
      " 10  Hour                            30614 non-null  float64\n",
      " 11  DayOfYear                       30614 non-null  float64\n",
      " 12  Month                           30614 non-null  float64\n",
      "dtypes: float64(13)\n",
      "memory usage: 3.3 MB\n"
     ]
    }
   ],
   "source": [
    "df.info()"
   ]
  },
  {
   "cell_type": "code",
   "execution_count": 48,
   "metadata": {},
   "outputs": [
    {
     "name": "stdout",
     "output_type": "stream",
     "text": [
      "Columns with negative values:\n",
      "Average Water Speed               0\n",
      "Average Water Direction           0\n",
      "Chlorophyll                       0\n",
      "Temperature                       0\n",
      "Dissolved Oxygen                  0\n",
      "Dissolved Oxygen (%Saturation)    0\n",
      "pH                                0\n",
      "Salinity                          0\n",
      "Specific Conductance              0\n",
      "Turbidity                         0\n",
      "Hour                              0\n",
      "DayOfYear                         0\n",
      "Month                             0\n",
      "dtype: int64\n"
     ]
    }
   ],
   "source": [
    "# Check for negative values in each column\n",
    "negative_counts = (df < 0).sum()\n",
    "\n",
    "print(\"Columns with negative values:\")\n",
    "print(negative_counts)\n"
   ]
  },
  {
   "cell_type": "code",
   "execution_count": 49,
   "metadata": {},
   "outputs": [
    {
     "data": {
      "text/plain": [
       "Average Water Speed               0\n",
       "Average Water Direction           0\n",
       "Chlorophyll                       0\n",
       "Temperature                       0\n",
       "Dissolved Oxygen                  0\n",
       "Dissolved Oxygen (%Saturation)    0\n",
       "pH                                0\n",
       "Salinity                          0\n",
       "Specific Conductance              0\n",
       "Turbidity                         0\n",
       "Hour                              0\n",
       "DayOfYear                         0\n",
       "Month                             0\n",
       "dtype: int64"
      ]
     },
     "execution_count": 49,
     "metadata": {},
     "output_type": "execute_result"
    }
   ],
   "source": [
    "from sklearn.impute import SimpleImputer\n",
    "\n",
    "imputer = SimpleImputer(strategy='median') \n",
    "\n",
    "# Fit the imputer on the DataFrame's numerical columns\n",
    "numerical_cols = df.select_dtypes(include=['number']).columns\n",
    "df[numerical_cols] = imputer.fit_transform(df[numerical_cols])\n",
    "\n",
    "# Check for missing values after imputation\n",
    "df.isnull().sum()"
   ]
  },
  {
   "cell_type": "code",
   "execution_count": 50,
   "metadata": {},
   "outputs": [
    {
     "name": "stderr",
     "output_type": "stream",
     "text": [
      "/var/folders/1n/ylr_6rmd60dg7hjwyhs4rpfr0000gn/T/ipykernel_3007/2646819493.py:10: UserWarning: Boolean Series key will be reindexed to match DataFrame index.\n",
      "  df_no_outliers = df_no_outliers[z_scores < threshold]\n",
      "/var/folders/1n/ylr_6rmd60dg7hjwyhs4rpfr0000gn/T/ipykernel_3007/2646819493.py:10: UserWarning: Boolean Series key will be reindexed to match DataFrame index.\n",
      "  df_no_outliers = df_no_outliers[z_scores < threshold]\n",
      "/var/folders/1n/ylr_6rmd60dg7hjwyhs4rpfr0000gn/T/ipykernel_3007/2646819493.py:10: UserWarning: Boolean Series key will be reindexed to match DataFrame index.\n",
      "  df_no_outliers = df_no_outliers[z_scores < threshold]\n",
      "/var/folders/1n/ylr_6rmd60dg7hjwyhs4rpfr0000gn/T/ipykernel_3007/2646819493.py:10: UserWarning: Boolean Series key will be reindexed to match DataFrame index.\n",
      "  df_no_outliers = df_no_outliers[z_scores < threshold]\n",
      "/var/folders/1n/ylr_6rmd60dg7hjwyhs4rpfr0000gn/T/ipykernel_3007/2646819493.py:10: UserWarning: Boolean Series key will be reindexed to match DataFrame index.\n",
      "  df_no_outliers = df_no_outliers[z_scores < threshold]\n",
      "/var/folders/1n/ylr_6rmd60dg7hjwyhs4rpfr0000gn/T/ipykernel_3007/2646819493.py:10: UserWarning: Boolean Series key will be reindexed to match DataFrame index.\n",
      "  df_no_outliers = df_no_outliers[z_scores < threshold]\n",
      "/var/folders/1n/ylr_6rmd60dg7hjwyhs4rpfr0000gn/T/ipykernel_3007/2646819493.py:10: UserWarning: Boolean Series key will be reindexed to match DataFrame index.\n",
      "  df_no_outliers = df_no_outliers[z_scores < threshold]\n",
      "/var/folders/1n/ylr_6rmd60dg7hjwyhs4rpfr0000gn/T/ipykernel_3007/2646819493.py:10: UserWarning: Boolean Series key will be reindexed to match DataFrame index.\n",
      "  df_no_outliers = df_no_outliers[z_scores < threshold]\n",
      "/var/folders/1n/ylr_6rmd60dg7hjwyhs4rpfr0000gn/T/ipykernel_3007/2646819493.py:10: UserWarning: Boolean Series key will be reindexed to match DataFrame index.\n",
      "  df_no_outliers = df_no_outliers[z_scores < threshold]\n"
     ]
    },
    {
     "data": {
      "text/plain": [
       "(28502, 13)"
      ]
     },
     "execution_count": 50,
     "metadata": {},
     "output_type": "execute_result"
    }
   ],
   "source": [
    "from scipy import stats  # Import the stats module from scipy\n",
    "\n",
    "def remove_outliers_zscore(df, threshold=3):\n",
    "    df_no_outliers = df.copy()\n",
    "    columns_to_exclude = ['Hour', 'DayOfYear', 'Month']  # Columns to exclude from outlier removal\n",
    "\n",
    "    for col in df.select_dtypes(include=np.number):\n",
    "        if col not in columns_to_exclude:  # Check if the column should be processed\n",
    "            z_scores = np.abs(stats.zscore(df[col]))\n",
    "            df_no_outliers = df_no_outliers[z_scores < threshold]\n",
    "\n",
    "    return df_no_outliers\n",
    "\n",
    "# Example usage\n",
    "df = remove_outliers_zscore(df)\n",
    "df.shape"
   ]
  },
  {
   "cell_type": "code",
   "execution_count": 51,
   "metadata": {},
   "outputs": [
    {
     "data": {
      "text/html": [
       "<div>\n",
       "<style scoped>\n",
       "    .dataframe tbody tr th:only-of-type {\n",
       "        vertical-align: middle;\n",
       "    }\n",
       "\n",
       "    .dataframe tbody tr th {\n",
       "        vertical-align: top;\n",
       "    }\n",
       "\n",
       "    .dataframe thead th {\n",
       "        text-align: right;\n",
       "    }\n",
       "</style>\n",
       "<table border=\"1\" class=\"dataframe\">\n",
       "  <thead>\n",
       "    <tr style=\"text-align: right;\">\n",
       "      <th></th>\n",
       "      <th>Average Water Speed</th>\n",
       "      <th>Average Water Direction</th>\n",
       "      <th>Chlorophyll</th>\n",
       "      <th>Temperature</th>\n",
       "      <th>Dissolved Oxygen</th>\n",
       "      <th>Dissolved Oxygen (%Saturation)</th>\n",
       "      <th>pH</th>\n",
       "      <th>Salinity</th>\n",
       "      <th>Specific Conductance</th>\n",
       "      <th>Turbidity</th>\n",
       "      <th>Hour</th>\n",
       "      <th>DayOfYear</th>\n",
       "      <th>Month</th>\n",
       "    </tr>\n",
       "    <tr>\n",
       "      <th>Timestamp</th>\n",
       "      <th></th>\n",
       "      <th></th>\n",
       "      <th></th>\n",
       "      <th></th>\n",
       "      <th></th>\n",
       "      <th></th>\n",
       "      <th></th>\n",
       "      <th></th>\n",
       "      <th></th>\n",
       "      <th></th>\n",
       "      <th></th>\n",
       "      <th></th>\n",
       "      <th></th>\n",
       "    </tr>\n",
       "  </thead>\n",
       "  <tbody>\n",
       "    <tr>\n",
       "      <th>2023-08-04 23:00:00</th>\n",
       "      <td>-1.120456</td>\n",
       "      <td>-0.323561</td>\n",
       "      <td>-0.603827</td>\n",
       "      <td>-1.428923</td>\n",
       "      <td>1.178197</td>\n",
       "      <td>0.603918</td>\n",
       "      <td>1.201306</td>\n",
       "      <td>1.409796</td>\n",
       "      <td>1.122769</td>\n",
       "      <td>-0.669970</td>\n",
       "      <td>1.664538</td>\n",
       "      <td>0.484837</td>\n",
       "      <td>0.592563</td>\n",
       "    </tr>\n",
       "    <tr>\n",
       "      <th>2023-08-04 23:30:00</th>\n",
       "      <td>-1.075374</td>\n",
       "      <td>-0.006426</td>\n",
       "      <td>-0.453122</td>\n",
       "      <td>-1.437394</td>\n",
       "      <td>1.170822</td>\n",
       "      <td>0.588776</td>\n",
       "      <td>1.189980</td>\n",
       "      <td>1.411576</td>\n",
       "      <td>1.124315</td>\n",
       "      <td>-0.704747</td>\n",
       "      <td>1.664538</td>\n",
       "      <td>0.484837</td>\n",
       "      <td>0.592563</td>\n",
       "    </tr>\n",
       "    <tr>\n",
       "      <th>2023-08-05 00:00:00</th>\n",
       "      <td>-0.585918</td>\n",
       "      <td>-1.208621</td>\n",
       "      <td>-0.768132</td>\n",
       "      <td>-1.472007</td>\n",
       "      <td>1.213500</td>\n",
       "      <td>0.607401</td>\n",
       "      <td>1.088043</td>\n",
       "      <td>1.427221</td>\n",
       "      <td>1.137813</td>\n",
       "      <td>-0.674244</td>\n",
       "      <td>-1.659720</td>\n",
       "      <td>0.493278</td>\n",
       "      <td>0.592563</td>\n",
       "    </tr>\n",
       "    <tr>\n",
       "      <th>2023-08-05 00:30:00</th>\n",
       "      <td>-1.102803</td>\n",
       "      <td>-0.812174</td>\n",
       "      <td>-0.774458</td>\n",
       "      <td>-1.477637</td>\n",
       "      <td>1.189023</td>\n",
       "      <td>0.577398</td>\n",
       "      <td>1.167327</td>\n",
       "      <td>1.427922</td>\n",
       "      <td>1.138266</td>\n",
       "      <td>-0.693350</td>\n",
       "      <td>-1.659720</td>\n",
       "      <td>0.493278</td>\n",
       "      <td>0.592563</td>\n",
       "    </tr>\n",
       "    <tr>\n",
       "      <th>2023-08-05 01:00:00</th>\n",
       "      <td>-0.526051</td>\n",
       "      <td>-1.198428</td>\n",
       "      <td>-0.732709</td>\n",
       "      <td>-1.488271</td>\n",
       "      <td>1.204086</td>\n",
       "      <td>0.584133</td>\n",
       "      <td>1.189980</td>\n",
       "      <td>1.431425</td>\n",
       "      <td>1.141433</td>\n",
       "      <td>-0.704412</td>\n",
       "      <td>-1.515187</td>\n",
       "      <td>0.493278</td>\n",
       "      <td>0.592563</td>\n",
       "    </tr>\n",
       "  </tbody>\n",
       "</table>\n",
       "</div>"
      ],
      "text/plain": [
       "                     Average Water Speed  Average Water Direction  \\\n",
       "Timestamp                                                           \n",
       "2023-08-04 23:00:00            -1.120456                -0.323561   \n",
       "2023-08-04 23:30:00            -1.075374                -0.006426   \n",
       "2023-08-05 00:00:00            -0.585918                -1.208621   \n",
       "2023-08-05 00:30:00            -1.102803                -0.812174   \n",
       "2023-08-05 01:00:00            -0.526051                -1.198428   \n",
       "\n",
       "                     Chlorophyll  Temperature  Dissolved Oxygen  \\\n",
       "Timestamp                                                         \n",
       "2023-08-04 23:00:00    -0.603827    -1.428923          1.178197   \n",
       "2023-08-04 23:30:00    -0.453122    -1.437394          1.170822   \n",
       "2023-08-05 00:00:00    -0.768132    -1.472007          1.213500   \n",
       "2023-08-05 00:30:00    -0.774458    -1.477637          1.189023   \n",
       "2023-08-05 01:00:00    -0.732709    -1.488271          1.204086   \n",
       "\n",
       "                     Dissolved Oxygen (%Saturation)        pH  Salinity  \\\n",
       "Timestamp                                                                 \n",
       "2023-08-04 23:00:00                        0.603918  1.201306  1.409796   \n",
       "2023-08-04 23:30:00                        0.588776  1.189980  1.411576   \n",
       "2023-08-05 00:00:00                        0.607401  1.088043  1.427221   \n",
       "2023-08-05 00:30:00                        0.577398  1.167327  1.427922   \n",
       "2023-08-05 01:00:00                        0.584133  1.189980  1.431425   \n",
       "\n",
       "                     Specific Conductance  Turbidity      Hour  DayOfYear  \\\n",
       "Timestamp                                                                   \n",
       "2023-08-04 23:00:00              1.122769  -0.669970  1.664538   0.484837   \n",
       "2023-08-04 23:30:00              1.124315  -0.704747  1.664538   0.484837   \n",
       "2023-08-05 00:00:00              1.137813  -0.674244 -1.659720   0.493278   \n",
       "2023-08-05 00:30:00              1.138266  -0.693350 -1.659720   0.493278   \n",
       "2023-08-05 01:00:00              1.141433  -0.704412 -1.515187   0.493278   \n",
       "\n",
       "                        Month  \n",
       "Timestamp                      \n",
       "2023-08-04 23:00:00  0.592563  \n",
       "2023-08-04 23:30:00  0.592563  \n",
       "2023-08-05 00:00:00  0.592563  \n",
       "2023-08-05 00:30:00  0.592563  \n",
       "2023-08-05 01:00:00  0.592563  "
      ]
     },
     "execution_count": 51,
     "metadata": {},
     "output_type": "execute_result"
    }
   ],
   "source": [
    "from sklearn.preprocessing import StandardScaler\n",
    "from sklearn.preprocessing import MinMaxScaler\n",
    "\n",
    "# Create an instance of StandardScaler\n",
    "scaler = StandardScaler()\n",
    "\n",
    "# Scale the data and convert back to DataFrame\n",
    "scaled_data = scaler.fit_transform(df)\n",
    "df = pd.DataFrame(scaled_data, columns=df.columns, index=df.index)\n",
    "\n",
    "# Now you can use DataFrame methods\n",
    "df.head()"
   ]
  },
  {
   "cell_type": "code",
   "execution_count": 52,
   "metadata": {},
   "outputs": [
    {
     "data": {
      "text/plain": [
       "(28502, 9)"
      ]
     },
     "execution_count": 52,
     "metadata": {},
     "output_type": "execute_result"
    }
   ],
   "source": [
    "from sklearn.decomposition import PCA\n",
    "import pandas as pd\n",
    "# Perform PCA\n",
    "pca = PCA(n_components=0.95)\n",
    "df = pca.fit_transform(df)\n",
    "df = pd.DataFrame(df)  # Use the original column names\n",
    "df.shape\n"
   ]
  },
  {
   "cell_type": "code",
   "execution_count": 53,
   "metadata": {},
   "outputs": [
    {
     "name": "stdout",
     "output_type": "stream",
     "text": [
      "DataFrame successfully saved to preprocessed_water_quality.csv\n"
     ]
    }
   ],
   "source": [
    "# Specify the file path and name\n",
    "name = 'preprocessed_water_quality.csv'  \n",
    "\n",
    "# Save the DataFrame to a CSV file\n",
    "df.to_csv(name, index=True)  \n",
    "\n",
    "print(f\"DataFrame successfully saved to {name}\")"
   ]
  },
  {
   "cell_type": "code",
   "execution_count": null,
   "metadata": {},
   "outputs": [],
   "source": []
  }
 ],
 "metadata": {
  "kernelspec": {
   "display_name": ".venv",
   "language": "python",
   "name": "python3"
  },
  "language_info": {
   "codemirror_mode": {
    "name": "ipython",
    "version": 3
   },
   "file_extension": ".py",
   "mimetype": "text/x-python",
   "name": "python",
   "nbconvert_exporter": "python",
   "pygments_lexer": "ipython3",
   "version": "3.9.6"
  }
 },
 "nbformat": 4,
 "nbformat_minor": 2
}
